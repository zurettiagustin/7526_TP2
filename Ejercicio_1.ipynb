{
 "cells": [
  {
   "cell_type": "code",
   "execution_count": 1,
   "id": "hispanic-software",
   "metadata": {},
   "outputs": [],
   "source": [
    "import numpy\n",
    "import random"
   ]
  },
  {
   "cell_type": "code",
   "execution_count": 4,
   "id": "indian-suspect",
   "metadata": {},
   "outputs": [
    {
     "name": "stdout",
     "output_type": "stream",
     "text": [
      "a) Arquitectura 1 - Bases de datos distribuidas \n",
      "\n",
      "BDD1: \n",
      "\n",
      "El tiempo medio de espera es de 0.165293 segs\n",
      "Las solicitudes que no esperaron son el 96.356667%\n",
      "El tiempo de resolucion promedio es 1.593865 segs\n",
      "\n",
      "BDD2: \n",
      "\n",
      "El tiempo medio de espera es de 0.167100 segs\n",
      "Las solicitudes que no esperaron son el 96.242500%\n",
      "El tiempo de resolucion promedio es 1.167100 segs\n",
      "\n",
      "b) Arquitectura 2 - Base de datos central \n",
      "\n",
      "El tiempo medio de espera es de 0.172692 segs\n",
      "Las solicitudes que no esperaron son el 96.186000%\n",
      "El tiempo de resolucion promedio es 1.422692 segs\n",
      "\n"
     ]
    }
   ],
   "source": [
    "arrives = 100000\n",
    "\n",
    "def computeQueue(arrivals, systemCapacity): \n",
    "    N = len(arrivals)\n",
    "    Q = numpy.zeros(N,dtype=int) # make a list to store the values of Q\n",
    "    departures = numpy.zeros(N,dtype=int) # make a list to store the values of departures\n",
    "    Q[0] = 0 #  initial queue length is 0\n",
    "    for n in range(1,N):\n",
    "        departures[n] = min( Q[n-1] + arrivals[n], systemCapacity[n])\n",
    "        Q[n] = Q[n-1] + arrivals[n] - departures[n]\n",
    "\n",
    "    return Q, departures\n",
    "\n",
    "def waitingTime(arrivals,departures):\n",
    "    # At[i] is the number of arrivals in time slot i\n",
    "    # Convert this to the arrival time of each customer\n",
    "    arrivalTimes = numpy.repeat(numpy.arange(len(arrivals)), arrivals)\n",
    "    # Dt[i] is the number of departures in time slot i\n",
    "    # Convert this to the departure time of each customer\n",
    "    departureTimes = numpy.repeat(numpy.arange(len(departures)), departures)\n",
    "    m = min(len(arrivalTimes), len(departureTimes))\n",
    "    waits = departureTimes[:m] - arrivalTimes[:m]\n",
    "    return waits\n",
    "\n",
    "def baseAttention(_lambda=1, _mu=1, _arrives=100000):\n",
    "    baseArrivals = numpy.random.poisson(_lambda, size=int(_arrives))\n",
    "    baseCapacity = _mu*numpy.ones_like(baseArrivals)\n",
    "\n",
    "    queueSizes, departures = computeQueue(baseArrivals, baseCapacity)\n",
    "    \n",
    "    baseWaitingTime = waitingTime(baseArrivals, departures)\n",
    "    \n",
    "    print(\"El tiempo medio de espera es de %f segs\" % baseWaitingTime.mean())\n",
    "    \n",
    "    # The ones who had a queueSize == 0 from the arrivals.\n",
    "    didntWait = float(queueSizes.tolist().count(0)) / float(_arrives) * 100\n",
    "    print(\"Las solicitudes que no esperaron son el %f%%\" % didntWait)\n",
    "\n",
    "    resolutionTime = numpy.array([x + y for x, y in zip(baseWaitingTime, baseCapacity)])\n",
    "    print(\"El tiempo de resolucion promedio es %f segs\" % resolutionTime.mean())\n",
    "    print(\"\")\n",
    "\n",
    "#\n",
    "# Hago las pruebas de cada caso\n",
    "#   \n",
    "\n",
    "print(\"a) Arquitectura 1 - Bases de datos distribuidas \\n\")\n",
    "\n",
    "p = 0.6\n",
    "q = 1 - p\n",
    "\n",
    "print(\"BDD1: \\n\")\n",
    "lambdaA1 = 1.0/4.0\n",
    "muA1 = 1.0/0.7\n",
    "baseAttention(_lambda=lambdaA1,_mu=muA1, _arrives=int(arrives*p))\n",
    "\n",
    "print(\"BDD2: \\n\")\n",
    "lambdaA2 = 1.0/4.0\n",
    "muA2 = 1.0/1.0\n",
    "baseAttention(_lambda=lambdaA2,_mu=muA2, _arrives=int(arrives*q))\n",
    "\n",
    "print(\"b) Arquitectura 2 - Base de datos central \\n\")\n",
    "\n",
    "lambdaB = 1.0/4.0\n",
    "muB = 1.0/0.8\n",
    "baseAttention(_lambda=lambdaB,_mu=muB, _arrives=int(arrives))"
   ]
  },
  {
   "cell_type": "markdown",
   "id": "human-stanford",
   "metadata": {},
   "source": [
    "Conclusion: como el tiempo de resolucion de la Arquitectura 1 no es como minimo un 50% menor que el de la segunda, **le recomendamos la opcion 2.**"
   ]
  }
 ],
 "metadata": {
  "kernelspec": {
   "display_name": "Python 3",
   "language": "python",
   "name": "python3"
  },
  "language_info": {
   "codemirror_mode": {
    "name": "ipython",
    "version": 3
   },
   "file_extension": ".py",
   "mimetype": "text/x-python",
   "name": "python",
   "nbconvert_exporter": "python",
   "pygments_lexer": "ipython3",
   "version": "3.8.5"
  }
 },
 "nbformat": 4,
 "nbformat_minor": 5
}
