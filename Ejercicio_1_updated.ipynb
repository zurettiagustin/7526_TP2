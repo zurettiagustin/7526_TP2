{
 "cells": [
  {
   "cell_type": "code",
   "execution_count": 4,
   "id": "desirable-lafayette",
   "metadata": {},
   "outputs": [],
   "source": [
    "import random\n",
    "import numpy as np"
   ]
  },
  {
   "cell_type": "code",
   "execution_count": 70,
   "id": "quality-damages",
   "metadata": {},
   "outputs": [
    {
     "name": "stdout",
     "output_type": "stream",
     "text": [
      "a) Arquitectura 1 - Bases de datos distribuidas\n",
      "Tiempo medio de espera es 0.624127 secs.\n",
      "Fracción de solicitudes que no esperaron para ser procesadas 0.238520\n",
      "Tiempo medio de resolucion 1.438493 \n",
      "\n",
      "b) Arquitectura 2 - Base de datos central\n",
      "Tiempo medio de espera es 0.613070 secs. \n",
      "Fracción de solicitudes que no esperaron para ser procesadas 0.235290\n",
      "Tiempo medio de resolucion 1.416635 \n",
      "\n",
      "La opcion de una arquitectura distribuida es 101.54 % que la opcion de arquitectura centralizada\n",
      "Por lo tanto recomiendo la opcion de arquitectura distribuida\n"
     ]
    }
   ],
   "source": [
    "np.random.seed(50)\n",
    "\n",
    "def requestArrive(expLambda):\n",
    "  return np.random.exponential(1/expLambda)\n",
    "\n",
    "def distributedProcessTime():\n",
    "  if (np.random.rand() <= p):\n",
    "    return np.random.exponential(mu1)\n",
    "  else:\n",
    "    return np.random.exponential(mu2)\n",
    "\n",
    "def centralizedProcessTime():\n",
    "  return np.random.exponential(mu)\n",
    "\n",
    "def simulate(process, n, arrivesLambda):\n",
    "  requestArriveTime = 0\n",
    "  readyAtTime = 0\n",
    "  waits = list()\n",
    "  processed = list()\n",
    "\n",
    "  for i in range(0, n):\n",
    "    requestArriveTime += requestArrive(arrivesLambda)\n",
    "    processTime = process()\n",
    "    waitTime = readyAtTime - requestArriveTime\n",
    "\n",
    "    if (waitTime > 0):\n",
    "      waits.append(waitTime)\n",
    "      processed.append(waitTime + processTime)\n",
    "    else:\n",
    "      waits.append(0)\n",
    "      processed.append(processTime)\n",
    "\n",
    "    readyAtTime = requestArriveTime + processTime\n",
    "\n",
    "  return { \"waitTimes\": waits, \"processedTimes\": processed }\n",
    "\n",
    "def didntWait(waitTimes):\n",
    "  return waitTimes.count(0) / len(waitTimes)\n",
    "\n",
    "def solveTimeDiffPercent(t1, t2):\n",
    "  st = np.mean(t1)\n",
    "  wt2 = np.mean(t2)\n",
    "  return (wt1 / wt2) * 100\n",
    "\n",
    "### SIMULATIONS DATA ###\n",
    "arrives = 100000\n",
    "arrivesLambda = 4\n",
    "\n",
    "### DISTRIBUTED ARCHITECTURE ###\n",
    "p = 0.6\n",
    "mu1 = 0.7\n",
    "mu2 = 1\n",
    "\n",
    "### CENTRALIZED ARCHITECTURE ###\n",
    "mu = 0.8\n",
    "\n",
    "distributed = simulate(distributedProcessTime, arrives, arrivesLambda)\n",
    "centralized = simulate(centralizedProcessTime, arrives, arrivesLambda)\n",
    "\n",
    "print(\"a) Arquitectura 1 - Bases de datos distribuidas\")\n",
    "print('Tiempo medio de espera es %f secs.'% np.mean(distributed[\"waitTimes\"]))\n",
    "print('Fracción de solicitudes que no esperaron para ser procesadas %f' % didntWait(distributed[\"waitTimes\"]))\n",
    "print('Tiempo medio de resolucion %f \\n' % np.mean(distributed[\"processedTimes\"]))\n",
    "\n",
    "print(\"b) Arquitectura 2 - Base de datos central\")\n",
    "print('Tiempo medio de espera es %f secs. ' % np.mean(centralized[\"waitTimes\"]))\n",
    "print('Fracción de solicitudes que no esperaron para ser procesadas %f' % didntWait(centralized[\"waitTimes\"]))\n",
    "print('Tiempo medio de resolucion %f \\n' % np.mean(centralized[\"processedTimes\"]))\n",
    "\n",
    "td = solveTimeDiffPercent(distributed[\"processedTimes\"], centralized[\"processedTimes\"])\n",
    "print('La opcion de una arquitectura distribuida es', round(td, 2), '% que la opcion de arquitectura centralizada')\n",
    "if (td >= 50):\n",
    "  print('Por lo tanto recomiendo la opcion de arquitectura distribuida')\n",
    "else:\n",
    "  print('Por lo tanto recomiendo la opcion de arquitectura centralizada')"
   ]
  }
 ],
 "metadata": {
  "kernelspec": {
   "display_name": "Python 3",
   "language": "python",
   "name": "python3"
  },
  "language_info": {
   "codemirror_mode": {
    "name": "ipython",
    "version": 3
   },
   "file_extension": ".py",
   "mimetype": "text/x-python",
   "name": "python",
   "nbconvert_exporter": "python",
   "pygments_lexer": "ipython3",
   "version": "3.8.5"
  }
 },
 "nbformat": 4,
 "nbformat_minor": 5
}
